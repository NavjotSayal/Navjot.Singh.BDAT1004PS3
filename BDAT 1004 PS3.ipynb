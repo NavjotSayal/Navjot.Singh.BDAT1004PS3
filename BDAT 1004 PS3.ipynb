{
 "cells": [
  {
   "cell_type": "markdown",
   "id": "4e6e4556",
   "metadata": {},
   "source": [
    "#  Question 1\n",
    "Introduction:\n",
    "Special thanks to: https://github.com/justmarkham for sharing the dataset and materials.\n",
    "\n",
    "Occupations\n",
    "<br>Step 1. Import the necessary libraries\n",
    "<br>Step 2. Import the dataset from \"https://raw.githubusercontent.com/justmarkham/DAT8/master/data/u.user\". \n",
    "<br>Step 3. Assign it to a variable called users\n",
    "<br>Step 4. Discover what is the mean age per occupation\n",
    "<br>Step 5. Discover the Male ratio per occupation and sort it from the most to the least\n",
    "<br>Step 6. For each occupation, calculate the minimum and maximum ages\n",
    "<br>Step 7. For each combination of occupation and sex, calculate the mean age \n",
    "<br>Step 8. For each occupation present the percentage of women and men"
   ]
  },
  {
   "cell_type": "code",
   "execution_count": 1,
   "id": "721fa6f5",
   "metadata": {},
   "outputs": [],
   "source": [
    "#Step 1\n",
    "import pandas as pd"
   ]
  },
  {
   "cell_type": "code",
   "execution_count": 2,
   "id": "581e08f4",
   "metadata": {},
   "outputs": [],
   "source": [
    "#Step 2\n",
    "url = \"https://raw.githubusercontent.com/justmarkham/DAT8/master/data/u.user\"\n",
    "\n",
    "#Step 3\n",
    "users = pd.read_csv(url, sep='|', index_col='user_id')"
   ]
  },
  {
   "cell_type": "code",
   "execution_count": 3,
   "id": "e49a86ff",
   "metadata": {},
   "outputs": [
    {
     "name": "stdout",
     "output_type": "stream",
     "text": [
      "Mean age per occupation:\n",
      "\n",
      "occupation\n",
      "administrator    38.746835\n",
      "artist           31.392857\n",
      "doctor           43.571429\n",
      "educator         42.010526\n",
      "engineer         36.388060\n",
      "entertainment    29.222222\n",
      "executive        38.718750\n",
      "healthcare       41.562500\n",
      "homemaker        32.571429\n",
      "lawyer           36.750000\n",
      "librarian        40.000000\n",
      "marketing        37.615385\n",
      "none             26.555556\n",
      "other            34.523810\n",
      "programmer       33.121212\n",
      "retired          63.071429\n",
      "salesman         35.666667\n",
      "scientist        35.548387\n",
      "student          22.081633\n",
      "technician       33.148148\n",
      "writer           36.311111\n"
     ]
    }
   ],
   "source": [
    "#Step 4\n",
    "mean_age_per_occupation = users.groupby('occupation')['age'].mean()\n",
    "\n",
    "print(\"Mean age per occupation:\\n\")\n",
    "print( mean_age_per_occupation.to_string())"
   ]
  },
  {
   "cell_type": "code",
   "execution_count": 4,
   "id": "e2d36f61",
   "metadata": {},
   "outputs": [
    {
     "name": "stdout",
     "output_type": "stream",
     "text": [
      "Male ratio per occupation:\n",
      "\n",
      "occupation\n",
      "doctor           1.000000\n",
      "engineer         0.970149\n",
      "technician       0.962963\n",
      "retired          0.928571\n",
      "programmer       0.909091\n",
      "executive        0.906250\n",
      "scientist        0.903226\n",
      "entertainment    0.888889\n",
      "lawyer           0.833333\n",
      "salesman         0.750000\n",
      "educator         0.726316\n",
      "student          0.693878\n",
      "other            0.657143\n",
      "marketing        0.615385\n",
      "writer           0.577778\n",
      "none             0.555556\n",
      "administrator    0.544304\n",
      "artist           0.535714\n",
      "librarian        0.431373\n",
      "healthcare       0.312500\n",
      "homemaker        0.142857\n"
     ]
    }
   ],
   "source": [
    "#Step 5\n",
    "\n",
    "def male_ratio(x):\n",
    "    if 'M' in x['gender'].values:\n",
    "        return x['gender'].value_counts(normalize=True)['M']\n",
    "    else:\n",
    "        return 0\n",
    "\n",
    "male_ratio_per_occupation = users.groupby('occupation').apply(male_ratio)\n",
    "male_ratio_per_occupation = male_ratio_per_occupation.sort_values(ascending=False)\n",
    "\n",
    "print(\"Male ratio per occupation:\\n\")\n",
    "print(male_ratio_per_occupation.to_string())"
   ]
  },
  {
   "cell_type": "code",
   "execution_count": 5,
   "id": "327d0a81",
   "metadata": {},
   "outputs": [
    {
     "name": "stdout",
     "output_type": "stream",
     "text": [
      "Minimum and Maximum age per Occupation\n",
      "\n",
      "               Minimum_Age  Maximum_Age\n",
      "occupation                             \n",
      "administrator           21           70\n",
      "artist                  19           48\n",
      "doctor                  28           64\n",
      "educator                23           63\n",
      "engineer                22           70\n",
      "entertainment           15           50\n",
      "executive               22           69\n",
      "healthcare              22           62\n",
      "homemaker               20           50\n",
      "lawyer                  21           53\n",
      "librarian               23           69\n",
      "marketing               24           55\n",
      "none                    11           55\n",
      "other                   13           64\n",
      "programmer              20           63\n",
      "retired                 51           73\n",
      "salesman                18           66\n",
      "scientist               23           55\n",
      "student                  7           42\n",
      "technician              21           55\n",
      "writer                  18           60\n"
     ]
    }
   ],
   "source": [
    "#Step 6\n",
    "min_max_age_per_occupation = users.groupby('occupation')['age'].agg(Minimum_Age='min', Maximum_Age='max')\n",
    "\n",
    "print(\"Minimum and Maximum age per Occupation\\n\")\n",
    "print(min_max_age_per_occupation)\n"
   ]
  },
  {
   "cell_type": "code",
   "execution_count": 6,
   "id": "2f203576",
   "metadata": {},
   "outputs": [
    {
     "name": "stdout",
     "output_type": "stream",
     "text": [
      "For each combination of occupation and sex, calculate the mean age\n",
      "\n",
      "                  Female       Male\n",
      "occupation                         \n",
      "administrator  40.638889  37.162791\n",
      "artist         30.307692  32.333333\n",
      "doctor               NaN  43.571429\n",
      "educator       39.115385  43.101449\n",
      "engineer       29.500000  36.600000\n",
      "entertainment  31.000000  29.000000\n",
      "executive      44.000000  38.172414\n",
      "healthcare     39.818182  45.400000\n",
      "homemaker      34.166667  23.000000\n",
      "lawyer         39.500000  36.200000\n",
      "librarian      40.000000  40.000000\n",
      "marketing      37.200000  37.875000\n",
      "none           36.500000  18.600000\n",
      "other          35.472222  34.028986\n",
      "programmer     32.166667  33.216667\n",
      "retired        70.000000  62.538462\n",
      "salesman       27.000000  38.555556\n",
      "scientist      28.333333  36.321429\n",
      "student        20.750000  22.669118\n",
      "technician     38.000000  32.961538\n",
      "writer         37.631579  35.346154\n"
     ]
    }
   ],
   "source": [
    "#Step 7\n",
    "mean_age_per_occupation_sex = users.groupby(['occupation', 'gender'])['age'].mean().unstack()\n",
    "mean_age_per_occupation_sex.columns.name = None\n",
    "mean_age_per_occupation_sex.columns = ['Female', 'Male']\n",
    "\n",
    "print(\"For each combination of occupation and sex, calculate the mean age\\n\")\n",
    "print(mean_age_per_occupation_sex)\n"
   ]
  },
  {
   "cell_type": "code",
   "execution_count": 7,
   "id": "96d3adde",
   "metadata": {},
   "outputs": [
    {
     "name": "stdout",
     "output_type": "stream",
     "text": [
      "Percentage of Women and Men for each Occupation\n",
      "\n",
      "                   Women         Men\n",
      "occupation                          \n",
      "administrator  45.569620   54.430380\n",
      "artist         46.428571   53.571429\n",
      "doctor               NaN  100.000000\n",
      "educator       27.368421   72.631579\n",
      "engineer        2.985075   97.014925\n",
      "entertainment  11.111111   88.888889\n",
      "executive       9.375000   90.625000\n",
      "healthcare     68.750000   31.250000\n",
      "homemaker      85.714286   14.285714\n",
      "lawyer         16.666667   83.333333\n",
      "librarian      56.862745   43.137255\n",
      "marketing      38.461538   61.538462\n",
      "none           44.444444   55.555556\n",
      "other          34.285714   65.714286\n",
      "programmer      9.090909   90.909091\n",
      "retired         7.142857   92.857143\n",
      "salesman       25.000000   75.000000\n",
      "scientist       9.677419   90.322581\n",
      "student        30.612245   69.387755\n",
      "technician      3.703704   96.296296\n",
      "writer         42.222222   57.777778\n"
     ]
    }
   ],
   "source": [
    "#Step 8\n",
    "\n",
    "gender_count_per_occupation = users.groupby(['occupation', 'gender']).size().unstack()\n",
    "gender_count_per_occupation.columns.name = None\n",
    "gender_count_per_occupation.columns = ['Women', 'Men'] # I just Changed column name F to Womene and M to Men\n",
    "\n",
    "percentage_per_occupation = gender_count_per_occupation.div(gender_count_per_occupation.sum(axis=1), axis=0) * 100\n",
    "\n",
    "print(\"Percentage of Women and Men for each Occupation\\n\")\n",
    "print(percentage_per_occupation)\n"
   ]
  },
  {
   "cell_type": "markdown",
   "id": "e8481eb8",
   "metadata": {},
   "source": [
    "## Question 2 \n",
    "\n",
    "Euro Teams\n",
    "<br>Step 1. Import the necessary libraries\n",
    "<br>Step 2. Import the dataset from https://raw.githubusercontent.com/guipsamora/pandas_exercises/master/02_Filtering_%26_Sorting/Euro12/Euro_2012_stats_TEAM.csv\n",
    "<br>Step 3. Assign it to a variable called euro12 \n",
    "<br>Step 4. Select only the Goal column\n",
    "<br>Step 5. How many team participated in the Euro2012? \n",
    "<br>Step 6. What is the number of columns in the dataset?\n",
    "<br>Step 7. View only the columns Team, Yellow Cards and Red Cards and assign them to a dataframe called discipline\n",
    "<br>Step 8. Sort the teams by Red Cards, then to Yellow Cards \n",
    "<br>Step 9. Calculate the mean Yellow Cards given per Team\n",
    "<br>Step 10. Filter teams that scored more than 6 goals\n",
    "<br>Step 11. Select the teams that start with G\n",
    "<br>Step 12. Select the first 7 columns\n",
    "<br>Step 13. Select all columns except the last 3\n",
    "<br>Step 14. Present only the Shooting Accuracy from England, Italy and Russia"
   ]
  },
  {
   "cell_type": "code",
   "execution_count": 8,
   "id": "ee35e16e",
   "metadata": {},
   "outputs": [],
   "source": [
    "import pandas as pd"
   ]
  },
  {
   "cell_type": "code",
   "execution_count": 9,
   "id": "878da6c0",
   "metadata": {},
   "outputs": [],
   "source": [
    "#Step 2\n",
    "url = \"https://raw.githubusercontent.com/guipsamora/pandas_exercises/master/02_Filtering_%26_Sorting/Euro12/Euro_2012_stats_TEAM.csv\""
   ]
  },
  {
   "cell_type": "code",
   "execution_count": 10,
   "id": "d0ca73c3",
   "metadata": {},
   "outputs": [],
   "source": [
    "#Step 3\n",
    "euro12 = pd.read_csv(url)"
   ]
  },
  {
   "cell_type": "code",
   "execution_count": 11,
   "id": "b262722e",
   "metadata": {},
   "outputs": [
    {
     "name": "stdout",
     "output_type": "stream",
     "text": [
      "Goal Column\n",
      " 4\n",
      " 4\n",
      " 4\n",
      " 5\n",
      " 3\n",
      "10\n",
      " 5\n",
      " 6\n",
      " 2\n",
      " 2\n",
      " 6\n",
      " 1\n",
      " 5\n",
      "12\n",
      " 5\n",
      " 2\n"
     ]
    }
   ],
   "source": [
    "#Step 4\n",
    "goals = euro12['Goals']\n",
    "print(\"Goal Column\")\n",
    "print(goals.to_string(index=False))"
   ]
  },
  {
   "cell_type": "code",
   "execution_count": 12,
   "id": "2ce9ec2c",
   "metadata": {},
   "outputs": [
    {
     "name": "stdout",
     "output_type": "stream",
     "text": [
      "How many teams participated in the Euro2012?\n",
      "Ans: 16\n"
     ]
    }
   ],
   "source": [
    "#Step 5\n",
    "\n",
    "print(\"How many teams participated in the Euro2012?\")\n",
    "print(\"Ans:\",euro12['Team'].nunique())"
   ]
  },
  {
   "cell_type": "code",
   "execution_count": 13,
   "id": "21551ed5",
   "metadata": {},
   "outputs": [
    {
     "name": "stdout",
     "output_type": "stream",
     "text": [
      "What is the number of columns in the dataset?\n",
      "Ans: 35\n"
     ]
    }
   ],
   "source": [
    "#Step 6\n",
    "print(\"What is the number of columns in the dataset?\")\n",
    "print(\"Ans:\",euro12.shape[1])"
   ]
  },
  {
   "cell_type": "code",
   "execution_count": 14,
   "id": "cb4d947e",
   "metadata": {},
   "outputs": [
    {
     "name": "stdout",
     "output_type": "stream",
     "text": [
      "               Team  Yellow Cards  Red Cards\n",
      "            Croatia             9          0\n",
      "     Czech Republic             7          0\n",
      "            Denmark             4          0\n",
      "            England             5          0\n",
      "             France             6          0\n",
      "            Germany             4          0\n",
      "             Greece             9          1\n",
      "              Italy            16          0\n",
      "        Netherlands             5          0\n",
      "             Poland             7          1\n",
      "           Portugal            12          0\n",
      "Republic of Ireland             6          1\n",
      "             Russia             6          0\n",
      "              Spain            11          0\n",
      "             Sweden             7          0\n",
      "            Ukraine             5          0\n"
     ]
    }
   ],
   "source": [
    "#Step 7\n",
    "discipline = euro12[['Team', 'Yellow Cards', 'Red Cards']] \n",
    "\n",
    "print(discipline.to_string(index=False)) # .to_string(index=False) this is to get rid of indexing"
   ]
  },
  {
   "cell_type": "code",
   "execution_count": 15,
   "id": "4b1389a3",
   "metadata": {},
   "outputs": [
    {
     "name": "stdout",
     "output_type": "stream",
     "text": [
      "               Team  Yellow Cards  Red Cards\n",
      "             Greece             9          1\n",
      "             Poland             7          1\n",
      "Republic of Ireland             6          1\n",
      "              Italy            16          0\n",
      "           Portugal            12          0\n",
      "              Spain            11          0\n",
      "            Croatia             9          0\n",
      "     Czech Republic             7          0\n",
      "             Sweden             7          0\n",
      "             France             6          0\n",
      "             Russia             6          0\n",
      "            England             5          0\n",
      "        Netherlands             5          0\n",
      "            Ukraine             5          0\n",
      "            Denmark             4          0\n",
      "            Germany             4          0\n"
     ]
    }
   ],
   "source": [
    "# Step 8\n",
    "sorted_byCards = discipline.sort_values(by=['Red Cards', 'Yellow Cards'], ascending=False)\n",
    "\n",
    "print(sorted_byCards.to_string(index=False))\n"
   ]
  },
  {
   "cell_type": "code",
   "execution_count": 16,
   "id": "066c13af",
   "metadata": {},
   "outputs": [
    {
     "name": "stdout",
     "output_type": "stream",
     "text": [
      "Mean yellow cards per team: 7.4375\n"
     ]
    }
   ],
   "source": [
    "#Step 9\n",
    "\n",
    "print(\"Mean yellow cards per team:\",discipline['Yellow Cards'].mean())\n"
   ]
  },
  {
   "cell_type": "code",
   "execution_count": 17,
   "id": "7a51e159",
   "metadata": {},
   "outputs": [
    {
     "name": "stdout",
     "output_type": "stream",
     "text": [
      "Teams with more than 6 goals are: Germany, Spain\n"
     ]
    }
   ],
   "source": [
    "#Step 10:\n",
    "\n",
    "print(\"Teams with more than 6 goals are:\", ', '.join(euro12.loc[euro12['Goals'] > 6, 'Team']))\n"
   ]
  },
  {
   "cell_type": "code",
   "execution_count": 18,
   "id": "404e5a3d",
   "metadata": {},
   "outputs": [
    {
     "name": "stdout",
     "output_type": "stream",
     "text": [
      "Teams starting with G are: Germany, Greece\n"
     ]
    }
   ],
   "source": [
    "print(\"Teams starting with G are:\", ', ' .join(euro12.loc[euro12['Team'].str.startswith('G'), 'Team']))\n"
   ]
  },
  {
   "cell_type": "code",
   "execution_count": 19,
   "id": "2192bbb5",
   "metadata": {
    "scrolled": true
   },
   "outputs": [
    {
     "name": "stdout",
     "output_type": "stream",
     "text": [
      "First 7 Columns are \n",
      "\n",
      "                Team  Goals  Shots on target  Shots off target Shooting Accuracy % Goals-to-shots  Total shots (inc. Blocked)\n",
      "            Croatia      4               13                12             51.9%            16.0%                          32\n",
      "     Czech Republic      4               13                18             41.9%            12.9%                          39\n",
      "            Denmark      4               10                10             50.0%            20.0%                          27\n",
      "            England      5               11                18             50.0%            17.2%                          40\n",
      "             France      3               22                24             37.9%             6.5%                          65\n",
      "            Germany     10               32                32             47.8%            15.6%                          80\n",
      "             Greece      5                8                18             30.7%            19.2%                          32\n",
      "              Italy      6               34                45             43.0%             7.5%                         110\n",
      "        Netherlands      2               12                36             25.0%             4.1%                          60\n",
      "             Poland      2               15                23             39.4%             5.2%                          48\n",
      "           Portugal      6               22                42             34.3%             9.3%                          82\n",
      "Republic of Ireland      1                7                12             36.8%             5.2%                          28\n",
      "             Russia      5                9                31             22.5%            12.5%                          59\n",
      "              Spain     12               42                33             55.9%            16.0%                         100\n",
      "             Sweden      5               17                19             47.2%            13.8%                          39\n",
      "            Ukraine      2                7                26             21.2%             6.0%                          38\n"
     ]
    }
   ],
   "source": [
    "print(\"First 7 Columns are \\n\\n\", euro12.iloc[:, :7].to_string(index=False))\n"
   ]
  },
  {
   "cell_type": "code",
   "execution_count": 20,
   "id": "1863082e",
   "metadata": {},
   "outputs": [
    {
     "name": "stdout",
     "output_type": "stream",
     "text": [
      "All Columns except last 3 are \n",
      "\n",
      "                    Team  Goals  Shots on target  Shots off target Shooting Accuracy % Goals-to-shots  \\\n",
      "0               Croatia      4               13                12             51.9%            16.0%   \n",
      "1        Czech Republic      4               13                18             41.9%            12.9%   \n",
      "2               Denmark      4               10                10             50.0%            20.0%   \n",
      "3               England      5               11                18             50.0%            17.2%   \n",
      "4                France      3               22                24             37.9%             6.5%   \n",
      "5               Germany     10               32                32             47.8%            15.6%   \n",
      "6                Greece      5                8                18             30.7%            19.2%   \n",
      "7                 Italy      6               34                45             43.0%             7.5%   \n",
      "8           Netherlands      2               12                36             25.0%             4.1%   \n",
      "9                Poland      2               15                23             39.4%             5.2%   \n",
      "10             Portugal      6               22                42             34.3%             9.3%   \n",
      "11  Republic of Ireland      1                7                12             36.8%             5.2%   \n",
      "12               Russia      5                9                31             22.5%            12.5%   \n",
      "13                Spain     12               42                33             55.9%            16.0%   \n",
      "14               Sweden      5               17                19             47.2%            13.8%   \n",
      "15              Ukraine      2                7                26             21.2%             6.0%   \n",
      "\n",
      "    Total shots (inc. Blocked)  Hit Woodwork  Penalty goals  Penalties not scored  Headed goals  Passes  Passes completed  \\\n",
      "0                           32             0              0                     0             2    1076               828   \n",
      "1                           39             0              0                     0             0    1565              1223   \n",
      "2                           27             1              0                     0             3    1298              1082   \n",
      "3                           40             0              0                     0             3    1488              1200   \n",
      "4                           65             1              0                     0             0    2066              1803   \n",
      "5                           80             2              1                     0             2    2774              2427   \n",
      "6                           32             1              1                     1             0    1187               911   \n",
      "7                          110             2              0                     0             2    3016              2531   \n",
      "8                           60             2              0                     0             0    1556              1381   \n",
      "9                           48             0              0                     0             1    1059               852   \n",
      "10                          82             6              0                     0             2    1891              1461   \n",
      "11                          28             0              0                     0             1     851               606   \n",
      "12                          59             2              0                     0             1    1602              1345   \n",
      "13                         100             0              1                     0             2    4317              3820   \n",
      "14                          39             3              0                     0             1    1192               965   \n",
      "15                          38             0              0                     0             2    1276              1043   \n",
      "\n",
      "   Passing Accuracy  Touches  Crosses  Dribbles  Corners Taken  Tackles  Clearances  Interceptions  Clearances off line  \\\n",
      "0             76.9%     1706       60        42             14       49          83             56                  NaN   \n",
      "1             78.1%     2358       46        68             21       62          98             37                  2.0   \n",
      "2             83.3%     1873       43        32             16       40          61             59                  0.0   \n",
      "3             80.6%     2440       58        60             16       86         106             72                  1.0   \n",
      "4             87.2%     2909       55        76             28       71          76             58                  0.0   \n",
      "5             87.4%     3761      101        60             35       91          73             69                  0.0   \n",
      "6             76.7%     2016       52        53             10       65         123             87                  0.0   \n",
      "7             83.9%     4363       75        75             30       98         137            136                  1.0   \n",
      "8             88.7%     2163       50        49             22       34          41             41                  0.0   \n",
      "9             80.4%     1724       55        39             14       67          87             62                  0.0   \n",
      "10            77.2%     2958       91        64             41       78          92             86                  0.0   \n",
      "11            71.2%     1433       43        18              8       45          78             43                  1.0   \n",
      "12            83.9%     2278       40        40             21       65          74             58                  0.0   \n",
      "13            88.4%     5585       69       106             44      122         102             79                  0.0   \n",
      "14            80.9%     1806       44        29              7       56          54             45                  0.0   \n",
      "15            81.7%     1894       33        26             18       65          97             29                  0.0   \n",
      "\n",
      "    Clean Sheets  Blocks  Goals conceded  Saves made Saves-to-shots ratio  Fouls Won  Fouls Conceded  Offsides  Yellow Cards  \\\n",
      "0              0      10               3          13                81.3%         41              62         2             9   \n",
      "1              1      10               6           9                60.1%         53              73         8             7   \n",
      "2              1      10               5          10                66.7%         25              38         8             4   \n",
      "3              2      29               3          22                88.1%         43              45         6             5   \n",
      "4              1       7               5           6                54.6%         36              51         5             6   \n",
      "5              1      11               6          10                62.6%         63              49        12             4   \n",
      "6              1      23               7          13                65.1%         67              48        12             9   \n",
      "7              2      18               7          20                74.1%        101              89        16            16   \n",
      "8              0       9               5          12                70.6%         35              30         3             5   \n",
      "9              0       8               3           6                66.7%         48              56         3             7   \n",
      "10             2      11               4          10                71.5%         73              90        10            12   \n",
      "11             0      23               9          17                65.4%         43              51        11             6   \n",
      "12             0       8               3          10                77.0%         34              43         4             6   \n",
      "13             5       8               1          15                93.8%        102              83        19            11   \n",
      "14             1      12               5           8                61.6%         35              51         7             7   \n",
      "15             0       4               4          13                76.5%         48              31         4             5   \n",
      "\n",
      "    Red Cards  \n",
      "0           0  \n",
      "1           0  \n",
      "2           0  \n",
      "3           0  \n",
      "4           0  \n",
      "5           0  \n",
      "6           1  \n",
      "7           0  \n",
      "8           0  \n",
      "9           1  \n",
      "10          0  \n",
      "11          1  \n",
      "12          0  \n",
      "13          0  \n",
      "14          0  \n",
      "15          0  \n"
     ]
    }
   ],
   "source": [
    "# Step 13\n",
    "pd.set_option('display.max_columns', None)  # It only showed 19 columns without this and inserted .... for others\n",
    "pd.set_option('display.width', 130)  # this is to adjust the display width, without this the output looked topsy-turvy\n",
    "\n",
    "\n",
    "print(\"All Columns except last 3 are \\n\\n\", euro12.iloc[:, :-3]) # here first column is indexing column which I didnt remove because on removing this the data doesnt appear to be readable\n"
   ]
  },
  {
   "cell_type": "code",
   "execution_count": 21,
   "id": "151a9594",
   "metadata": {},
   "outputs": [
    {
     "name": "stdout",
     "output_type": "stream",
     "text": [
      "Shooting Accuracy of England, Italy and England:\n",
      "\n",
      "    Team Shooting Accuracy\n",
      "England             50.0%\n",
      "  Italy             43.0%\n",
      " Russia             22.5%\n"
     ]
    }
   ],
   "source": [
    "print(\"Shooting Accuracy of England, Italy and England:\\n\\n\", euro12.loc[euro12['Team'].isin(['England', 'Italy', 'Russia']), ['Team','Shooting Accuracy']].to_string(index=False))\n"
   ]
  },
  {
   "cell_type": "markdown",
   "id": "bcb62079",
   "metadata": {},
   "source": [
    "## Question 3\n",
    "\n",
    "Housing\n",
    "\n",
    "Step 1. Import the necessary libraries\n",
    "<br>Step 2. Create 3 differents Series, each of length 100, as follows:\n",
    "<br>• The first a random number from 1 to 4\n",
    "<br>• The second a random number from 1 to 3\n",
    "<br>• The third a random number from 10,000 to 30,000\n",
    "<br>Step 3. Create a DataFrame by joinning the Series by column\n",
    "<br>Step 4. Change the name of the columns to bedrs, bathrs, price_sqr_meter\n",
    "<br>Step 5. Create a one column DataFrame with the values of the 3 Series and assign it\n",
    "to 'bigcolumn'\n",
    "<br>Step 6. Ops it seems it is going only until index 99. Is it true?\n",
    "<br>Step 7. Reindex the DataFrame so it goes from 0 to 299"
   ]
  },
  {
   "cell_type": "code",
   "execution_count": 22,
   "id": "6cd6cec8",
   "metadata": {},
   "outputs": [],
   "source": [
    "# Step 1: Import the necessary libraries\n",
    "import pandas as pd\n",
    "import numpy as np"
   ]
  },
  {
   "cell_type": "code",
   "execution_count": 23,
   "id": "2665962b",
   "metadata": {},
   "outputs": [],
   "source": [
    "# Step 2: Create 3 different Series\n",
    "first_series = pd.Series(np.random.randint(1, 5, size=100))\n",
    "second_series = pd.Series(np.random.randint(1, 4, size=100))\n",
    "third_series = pd.Series(np.random.randint(10000, 30001, size=100))"
   ]
  },
  {
   "cell_type": "code",
   "execution_count": 24,
   "id": "56affe07",
   "metadata": {},
   "outputs": [],
   "source": [
    "# Step 3: Create a DataFrame by joining the Series by column\n",
    "df = pd.concat([first_series, second_series, third_series], axis=1)"
   ]
  },
  {
   "cell_type": "code",
   "execution_count": 25,
   "id": "9ca6fcf5",
   "metadata": {},
   "outputs": [
    {
     "name": "stdout",
     "output_type": "stream",
     "text": [
      "Index(['bedrs', 'bathrs', 'price_sqr_meter'], dtype='object')\n"
     ]
    }
   ],
   "source": [
    "# Step 4: Change the name of the columns\n",
    "df.columns = ['bedrs', 'bathrs', 'price_sqr_meter']\n",
    "print(df.columns)\n"
   ]
  },
  {
   "cell_type": "code",
   "execution_count": 26,
   "id": "eb38f197",
   "metadata": {},
   "outputs": [],
   "source": [
    "# Step 5: Create a one column DataFrame with the values of the 3 Series and assign it to 'bigcolumn'\n",
    "bigcolumn = pd.DataFrame(pd.concat([first_series, second_series, third_series]))"
   ]
  },
  {
   "cell_type": "code",
   "execution_count": 27,
   "id": "5f9a148f",
   "metadata": {},
   "outputs": [
    {
     "name": "stdout",
     "output_type": "stream",
     "text": [
      "99\n"
     ]
    }
   ],
   "source": [
    "# Step 6: Check if it is going only until index 99\n",
    "print(bigcolumn.index.max())  # It should print 299 if it's going beyond index 99\n"
   ]
  },
  {
   "cell_type": "code",
   "execution_count": 28,
   "id": "fdbb62fa",
   "metadata": {},
   "outputs": [
    {
     "name": "stdout",
     "output_type": "stream",
     "text": [
      "299\n"
     ]
    }
   ],
   "source": [
    "# Step 7. Reindex the DataFrame so it goes from 0 to 299\n",
    "bigcolumn.reset_index(drop=True, inplace=True)\n",
    "print(bigcolumn.index.max())"
   ]
  },
  {
   "cell_type": "markdown",
   "id": "1cf58db1",
   "metadata": {},
   "source": [
    "## Question 4\n",
    "Wind Statistics\n",
    "<br>The data have been modified to contain some missing values, identified by NaN.\n",
    "<br>Using pandas should make this exercise easier, in particular for the bonus question.\n",
    "<br>You should be able to perform all of these operations without using a for loop or other looping construct.\n",
    "<br>The data in 'wind.data' has the following format:\n",
    "<br>Yr Mo Dy RPT VAL ROS KIL SHA BIR DUB CLA MUL CLO BEL MAL\n",
    "<br>61 1 1 15.04 14.96 13.17 9.29 NaN 9.87 13.67 10.25 10.83 12.58 18.50 15.04\n",
    "<br>61 1 2 14.71 NaN 10.83 6.50 12.62 7.67 11.50 10.04 9.79 9.67 17.54 13.83\n",
    "<br>61 1 3 18.50 16.88 12.33 10.13 11.17 6.17 11.25 NaN 8.50 7.67 12.75 12.71\n",
    "\n",
    "The first three columns are year, month, and day. The remaining 12 columns are average windspeeds in knots at 12 locations in Ireland on that day.\n",
    "<br>Step 1. Import the necessary libraries\n",
    "<br>Step 2. Import the dataset from the attached file wind.txt\n",
    "<br>Step 3. Assign it to a variable called data and replace the first 3 columns by a proper datetime index.\n",
    "<br>Step 4. Year 2061? Do we really have data from this year? Create a function to fix it and apply it.\n",
    "<br>Step 5. Set the right dates as the index. Pay attention at the data type, it should be datetime64[ns].\n",
    "<br>Step 6. Compute how many values are missing for each location over the entire record.They should be ignored in all calculations below.\n",
    "<br>Step 7. Compute how many non-missing values there are in total.\n",
    "<br>Step 8. Calculate the mean windspeeds of the windspeeds over all the locations and all the times.\n",
    "A single number for the entire dataset.\n",
    "<br>Step 9. Create a DataFrame called loc_stats and calculate the min, max and mean windspeeds and standard deviations of the windspeeds at each location over all the days\n",
    "A different set of numbers for each location.\n",
    "<br>Step 10. Create a DataFrame called day_stats and calculate the min, max and mean windspeed and standard deviations of the windspeeds across all the locations at each day.\n",
    "<br>A different set of numbers for each day.\n",
    "<br>Step 11. Find the average windspeed in January for each location. Treat January 1961 and January 1962 both as January.\n",
    "<br>Step 12. Downsample the record to a yearly frequency for each location. \n",
    "<br>Step 13. Downsample the record to a monthly frequency for each location. <br>Step 14. Downsample the record to a weekly frequency for each location.\n",
    "<br>Step 15. Calculate the min, max and mean windspeeds and standard deviations of the windspeeds across all locations for each week (assume that the first week starts on January 2 1961) for the first 52 weeks."
   ]
  },
  {
   "cell_type": "code",
   "execution_count": 29,
   "id": "f45cf0e6",
   "metadata": {},
   "outputs": [],
   "source": [
    "# Step 1\n",
    "import pandas as pd\n",
    "import numpy as np\n",
    "import datetime"
   ]
  },
  {
   "cell_type": "code",
   "execution_count": 30,
   "id": "d7b2c003",
   "metadata": {},
   "outputs": [
    {
     "name": "stdout",
     "output_type": "stream",
     "text": [
      "        date    RPT    VAL    ROS    KIL    SHA   BIR    DUB    CLA    MUL    CLO    BEL    MAL\n",
      "0 2061-01-01  15.04  14.96  13.17   9.29    NaN  9.87  13.67  10.25  10.83  12.58  18.50  15.04\n",
      "1 2061-01-02  14.71    NaN  10.83   6.50  12.62  7.67  11.50  10.04   9.79   9.67  17.54  13.83\n",
      "2 2061-01-03  18.50  16.88  12.33  10.13  11.17  6.17  11.25    NaN   8.50   7.67  12.75  12.71\n",
      "3 2061-01-04  10.58   6.63  11.75   4.58   4.54  2.88   8.63   1.79   5.83   5.88   5.46  10.88\n",
      "4 2061-01-05  13.33  13.25  11.42   6.17  10.71  8.21  11.92   6.54  10.92  10.34  12.92  11.83\n"
     ]
    }
   ],
   "source": [
    "# Step 2\n",
    "data = pd.read_csv('wind.txt', delimiter='\\s+', parse_dates={'date': ['Yr', 'Mo', 'Dy']}, date_format='%y %m %d')\n",
    "print(data.head())"
   ]
  },
  {
   "cell_type": "code",
   "execution_count": 31,
   "id": "b03673c4",
   "metadata": {},
   "outputs": [],
   "source": [
    "# Step 3\n",
    "data.set_index('date', inplace=True)\n"
   ]
  },
  {
   "cell_type": "code",
   "execution_count": 32,
   "id": "13c1f26c",
   "metadata": {},
   "outputs": [
    {
     "name": "stdout",
     "output_type": "stream",
     "text": [
      "              RPT    VAL    ROS    KIL    SHA    BIR    DUB    CLA    MUL    CLO    BEL    MAL\n",
      "date                                                                                          \n",
      "1961-01-01  15.04  14.96  13.17   9.29    NaN   9.87  13.67  10.25  10.83  12.58  18.50  15.04\n",
      "1961-01-02  14.71    NaN  10.83   6.50  12.62   7.67  11.50  10.04   9.79   9.67  17.54  13.83\n",
      "1961-01-03  18.50  16.88  12.33  10.13  11.17   6.17  11.25    NaN   8.50   7.67  12.75  12.71\n",
      "1961-01-04  10.58   6.63  11.75   4.58   4.54   2.88   8.63   1.79   5.83   5.88   5.46  10.88\n",
      "1961-01-05  13.33  13.25  11.42   6.17  10.71   8.21  11.92   6.54  10.92  10.34  12.92  11.83\n",
      "...           ...    ...    ...    ...    ...    ...    ...    ...    ...    ...    ...    ...\n",
      "1978-12-27  17.58  16.96  17.62   8.08  13.21  11.67  14.46  15.59  14.04  14.00  17.21  40.08\n",
      "1978-12-28  13.21   5.46  13.46   5.00   8.12   9.42  14.33  16.25  15.25  18.05  21.79  41.46\n",
      "1978-12-29  14.00  10.29  14.42   8.71   9.71  10.54  19.17  12.46  14.50  16.42  18.88  29.58\n",
      "1978-12-30  18.50  14.04  21.29   9.13  12.75   9.71  18.08  12.87  12.46  12.12  14.67  28.79\n",
      "1978-12-31  20.33  17.41  27.29   9.59  12.08  10.13  19.25  11.63  11.58  11.38  12.08  22.08\n",
      "\n",
      "[6574 rows x 12 columns]\n"
     ]
    }
   ],
   "source": [
    "# Step 4 \n",
    "def fix_year(year):\n",
    "    if year > 2000:\n",
    "        year -= 100\n",
    "    return year\n",
    "\n",
    "data.index = data.index.map(lambda x: x.replace(year=fix_year(x.year)))\n",
    "\n",
    "print(data)"
   ]
  },
  {
   "cell_type": "code",
   "execution_count": 33,
   "id": "d7c3e723",
   "metadata": {},
   "outputs": [],
   "source": [
    "# Step 5\n",
    "data.index = pd.to_datetime(data.index)"
   ]
  },
  {
   "cell_type": "code",
   "execution_count": 34,
   "id": "1225eecd",
   "metadata": {},
   "outputs": [
    {
     "name": "stdout",
     "output_type": "stream",
     "text": [
      "No. of Missing values for each location:\n",
      "\n",
      "RPT    6\n",
      "VAL    3\n",
      "ROS    2\n",
      "KIL    5\n",
      "SHA    2\n",
      "BIR    0\n",
      "DUB    3\n",
      "CLA    2\n",
      "MUL    3\n",
      "CLO    1\n",
      "BEL    0\n",
      "MAL    4\n"
     ]
    }
   ],
   "source": [
    "# Step 6\n",
    "missing_values = data.isnull().sum()\n",
    "print(\"No. of Missing values for each location:\\n\")\n",
    "print(missing_values.to_string())"
   ]
  },
  {
   "cell_type": "code",
   "execution_count": 35,
   "id": "785ea041",
   "metadata": {},
   "outputs": [
    {
     "name": "stdout",
     "output_type": "stream",
     "text": [
      "Total number of non missing values are: 78857\n"
     ]
    }
   ],
   "source": [
    "# Step 7\n",
    "non_missing_values = data.notnull().sum().sum()\n",
    "print(\"Total number of non missing values are:\",non_missing_values)"
   ]
  },
  {
   "cell_type": "code",
   "execution_count": 36,
   "id": "0812dbc7",
   "metadata": {},
   "outputs": [
    {
     "name": "stdout",
     "output_type": "stream",
     "text": [
      "Mean Windspeed is: 10.227982360836938\n"
     ]
    }
   ],
   "source": [
    "# Step 8\n",
    "mean_windspeed = data.mean().mean()\n",
    "print(\"Mean Windspeed is:\",mean_windspeed)"
   ]
  },
  {
   "cell_type": "code",
   "execution_count": 37,
   "id": "6d04a0cb",
   "metadata": {},
   "outputs": [
    {
     "name": "stdout",
     "output_type": "stream",
     "text": [
      "      count       mean       std   min    25%    50%    75%    max\n",
      "RPT  6568.0  12.362987  5.618413  0.67   8.12  11.71  15.92  35.80\n",
      "VAL  6571.0  10.644314  5.267356  0.21   6.67  10.17  14.04  33.37\n",
      "ROS  6572.0  11.660526  5.008450  1.50   8.00  10.92  14.67  33.84\n",
      "KIL  6569.0   6.306468  3.605811  0.00   3.58   5.75   8.42  28.46\n",
      "SHA  6572.0  10.455834  4.936125  0.13   6.75   9.96  13.54  37.54\n",
      "BIR  6574.0   7.092254  3.968683  0.00   4.00   6.83   9.67  26.16\n",
      "DUB  6571.0   9.797343  4.977555  0.00   6.00   9.21  12.96  30.37\n",
      "CLA  6572.0   8.495053  4.499449  0.00   5.09   8.08  11.42  31.08\n",
      "MUL  6571.0   8.493590  4.166872  0.00   5.37   8.17  11.19  25.88\n",
      "CLO  6573.0   8.707332  4.503954  0.04   5.33   8.29  11.63  28.21\n",
      "BEL  6574.0  13.121007  5.835037  0.13   8.71  12.50  16.88  42.38\n",
      "MAL  6570.0  15.599079  6.699794  0.67  10.71  15.00  19.83  42.54\n"
     ]
    }
   ],
   "source": [
    "# Step 9\n",
    "loc_stats = data.describe().transpose()\n",
    "print(loc_stats)"
   ]
  },
  {
   "cell_type": "code",
   "execution_count": 38,
   "id": "0b2050a7",
   "metadata": {},
   "outputs": [
    {
     "name": "stdout",
     "output_type": "stream",
     "text": [
      "              RPT                    \\\n",
      "              min    max   mean std   \n",
      "date                                  \n",
      "1961-01-01  15.04  15.04  15.04 NaN   \n",
      "1961-01-02  14.71  14.71  14.71 NaN   \n",
      "1961-01-03  18.50  18.50  18.50 NaN   \n",
      "1961-01-04  10.58  10.58  10.58 NaN   \n",
      "1961-01-05  13.33  13.33  13.33 NaN   \n",
      "...           ...    ...    ...  ..   \n",
      "1978-12-27  17.58  17.58  17.58 NaN   \n",
      "1978-12-28  13.21  13.21  13.21 NaN   \n",
      "1978-12-29  14.00  14.00  14.00 NaN   \n",
      "1978-12-30  18.50  18.50  18.50 NaN   \n",
      "1978-12-31  20.33  20.33  20.33 NaN   \n",
      "\n",
      "              VAL                    \\\n",
      "              min    max   mean std   \n",
      "date                                  \n",
      "1961-01-01  14.96  14.96  14.96 NaN   \n",
      "1961-01-02    NaN    NaN    NaN NaN   \n",
      "1961-01-03  16.88  16.88  16.88 NaN   \n",
      "1961-01-04   6.63   6.63   6.63 NaN   \n",
      "1961-01-05  13.25  13.25  13.25 NaN   \n",
      "...           ...    ...    ...  ..   \n",
      "1978-12-27  16.96  16.96  16.96 NaN   \n",
      "1978-12-28   5.46   5.46   5.46 NaN   \n",
      "1978-12-29  10.29  10.29  10.29 NaN   \n",
      "1978-12-30  14.04  14.04  14.04 NaN   \n",
      "1978-12-31  17.41  17.41  17.41 NaN   \n",
      "\n",
      "              ROS                    \\\n",
      "              min    max   mean std   \n",
      "date                                  \n",
      "1961-01-01  13.17  13.17  13.17 NaN   \n",
      "1961-01-02  10.83  10.83  10.83 NaN   \n",
      "1961-01-03  12.33  12.33  12.33 NaN   \n",
      "1961-01-04  11.75  11.75  11.75 NaN   \n",
      "1961-01-05  11.42  11.42  11.42 NaN   \n",
      "...           ...    ...    ...  ..   \n",
      "1978-12-27  17.62  17.62  17.62 NaN   \n",
      "1978-12-28  13.46  13.46  13.46 NaN   \n",
      "1978-12-29  14.42  14.42  14.42 NaN   \n",
      "1978-12-30  21.29  21.29  21.29 NaN   \n",
      "1978-12-31  27.29  27.29  27.29 NaN   \n",
      "\n",
      "              KIL                    \\\n",
      "              min    max   mean std   \n",
      "date                                  \n",
      "1961-01-01   9.29   9.29   9.29 NaN   \n",
      "1961-01-02   6.50   6.50   6.50 NaN   \n",
      "1961-01-03  10.13  10.13  10.13 NaN   \n",
      "1961-01-04   4.58   4.58   4.58 NaN   \n",
      "1961-01-05   6.17   6.17   6.17 NaN   \n",
      "...           ...    ...    ...  ..   \n",
      "1978-12-27   8.08   8.08   8.08 NaN   \n",
      "1978-12-28   5.00   5.00   5.00 NaN   \n",
      "1978-12-29   8.71   8.71   8.71 NaN   \n",
      "1978-12-30   9.13   9.13   9.13 NaN   \n",
      "1978-12-31   9.59   9.59   9.59 NaN   \n",
      "\n",
      "              SHA                    \\\n",
      "              min    max   mean std   \n",
      "date                                  \n",
      "1961-01-01    NaN    NaN    NaN NaN   \n",
      "1961-01-02  12.62  12.62  12.62 NaN   \n",
      "1961-01-03  11.17  11.17  11.17 NaN   \n",
      "1961-01-04   4.54   4.54   4.54 NaN   \n",
      "1961-01-05  10.71  10.71  10.71 NaN   \n",
      "...           ...    ...    ...  ..   \n",
      "1978-12-27  13.21  13.21  13.21 NaN   \n",
      "1978-12-28   8.12   8.12   8.12 NaN   \n",
      "1978-12-29   9.71   9.71   9.71 NaN   \n",
      "1978-12-30  12.75  12.75  12.75 NaN   \n",
      "1978-12-31  12.08  12.08  12.08 NaN   \n",
      "\n",
      "              BIR                    \\\n",
      "              min    max   mean std   \n",
      "date                                  \n",
      "1961-01-01   9.87   9.87   9.87 NaN   \n",
      "1961-01-02   7.67   7.67   7.67 NaN   \n",
      "1961-01-03   6.17   6.17   6.17 NaN   \n",
      "1961-01-04   2.88   2.88   2.88 NaN   \n",
      "1961-01-05   8.21   8.21   8.21 NaN   \n",
      "...           ...    ...    ...  ..   \n",
      "1978-12-27  11.67  11.67  11.67 NaN   \n",
      "1978-12-28   9.42   9.42   9.42 NaN   \n",
      "1978-12-29  10.54  10.54  10.54 NaN   \n",
      "1978-12-30   9.71   9.71   9.71 NaN   \n",
      "1978-12-31  10.13  10.13  10.13 NaN   \n",
      "\n",
      "              DUB                    \\\n",
      "              min    max   mean std   \n",
      "date                                  \n",
      "1961-01-01  13.67  13.67  13.67 NaN   \n",
      "1961-01-02  11.50  11.50  11.50 NaN   \n",
      "1961-01-03  11.25  11.25  11.25 NaN   \n",
      "1961-01-04   8.63   8.63   8.63 NaN   \n",
      "1961-01-05  11.92  11.92  11.92 NaN   \n",
      "...           ...    ...    ...  ..   \n",
      "1978-12-27  14.46  14.46  14.46 NaN   \n",
      "1978-12-28  14.33  14.33  14.33 NaN   \n",
      "1978-12-29  19.17  19.17  19.17 NaN   \n",
      "1978-12-30  18.08  18.08  18.08 NaN   \n",
      "1978-12-31  19.25  19.25  19.25 NaN   \n",
      "\n",
      "              CLA                    \\\n",
      "              min    max   mean std   \n",
      "date                                  \n",
      "1961-01-01  10.25  10.25  10.25 NaN   \n",
      "1961-01-02  10.04  10.04  10.04 NaN   \n",
      "1961-01-03    NaN    NaN    NaN NaN   \n",
      "1961-01-04   1.79   1.79   1.79 NaN   \n",
      "1961-01-05   6.54   6.54   6.54 NaN   \n",
      "...           ...    ...    ...  ..   \n",
      "1978-12-27  15.59  15.59  15.59 NaN   \n",
      "1978-12-28  16.25  16.25  16.25 NaN   \n",
      "1978-12-29  12.46  12.46  12.46 NaN   \n",
      "1978-12-30  12.87  12.87  12.87 NaN   \n",
      "1978-12-31  11.63  11.63  11.63 NaN   \n",
      "\n",
      "              MUL                    \\\n",
      "              min    max   mean std   \n",
      "date                                  \n",
      "1961-01-01  10.83  10.83  10.83 NaN   \n",
      "1961-01-02   9.79   9.79   9.79 NaN   \n",
      "1961-01-03   8.50   8.50   8.50 NaN   \n",
      "1961-01-04   5.83   5.83   5.83 NaN   \n",
      "1961-01-05  10.92  10.92  10.92 NaN   \n",
      "...           ...    ...    ...  ..   \n",
      "1978-12-27  14.04  14.04  14.04 NaN   \n",
      "1978-12-28  15.25  15.25  15.25 NaN   \n",
      "1978-12-29  14.50  14.50  14.50 NaN   \n",
      "1978-12-30  12.46  12.46  12.46 NaN   \n",
      "1978-12-31  11.58  11.58  11.58 NaN   \n",
      "\n",
      "              CLO                    \\\n",
      "              min    max   mean std   \n",
      "date                                  \n",
      "1961-01-01  12.58  12.58  12.58 NaN   \n",
      "1961-01-02   9.67   9.67   9.67 NaN   \n",
      "1961-01-03   7.67   7.67   7.67 NaN   \n",
      "1961-01-04   5.88   5.88   5.88 NaN   \n",
      "1961-01-05  10.34  10.34  10.34 NaN   \n",
      "...           ...    ...    ...  ..   \n",
      "1978-12-27  14.00  14.00  14.00 NaN   \n",
      "1978-12-28  18.05  18.05  18.05 NaN   \n",
      "1978-12-29  16.42  16.42  16.42 NaN   \n",
      "1978-12-30  12.12  12.12  12.12 NaN   \n",
      "1978-12-31  11.38  11.38  11.38 NaN   \n",
      "\n",
      "              BEL                    \\\n",
      "              min    max   mean std   \n",
      "date                                  \n",
      "1961-01-01  18.50  18.50  18.50 NaN   \n",
      "1961-01-02  17.54  17.54  17.54 NaN   \n",
      "1961-01-03  12.75  12.75  12.75 NaN   \n",
      "1961-01-04   5.46   5.46   5.46 NaN   \n",
      "1961-01-05  12.92  12.92  12.92 NaN   \n",
      "...           ...    ...    ...  ..   \n",
      "1978-12-27  17.21  17.21  17.21 NaN   \n",
      "1978-12-28  21.79  21.79  21.79 NaN   \n",
      "1978-12-29  18.88  18.88  18.88 NaN   \n",
      "1978-12-30  14.67  14.67  14.67 NaN   \n",
      "1978-12-31  12.08  12.08  12.08 NaN   \n",
      "\n",
      "              MAL                    \n",
      "              min    max   mean std  \n",
      "date                                 \n",
      "1961-01-01  15.04  15.04  15.04 NaN  \n",
      "1961-01-02  13.83  13.83  13.83 NaN  \n",
      "1961-01-03  12.71  12.71  12.71 NaN  \n",
      "1961-01-04  10.88  10.88  10.88 NaN  \n",
      "1961-01-05  11.83  11.83  11.83 NaN  \n",
      "...           ...    ...    ...  ..  \n",
      "1978-12-27  40.08  40.08  40.08 NaN  \n",
      "1978-12-28  41.46  41.46  41.46 NaN  \n",
      "1978-12-29  29.58  29.58  29.58 NaN  \n",
      "1978-12-30  28.79  28.79  28.79 NaN  \n",
      "1978-12-31  22.08  22.08  22.08 NaN  \n",
      "\n",
      "[6574 rows x 48 columns]\n"
     ]
    }
   ],
   "source": [
    "# Step 10\n",
    "\n",
    "pd.set_option('display.width', 40) # Adjusted the width so as there is only data of one location once. Tried to place 2 or more loction but it messes up the readability\n",
    "day_stats = data.resample('D').agg(['min', 'max', 'mean', 'std'])\n",
    "print(day_stats)"
   ]
  },
  {
   "cell_type": "code",
   "execution_count": 39,
   "id": "882083a7",
   "metadata": {},
   "outputs": [
    {
     "name": "stdout",
     "output_type": "stream",
     "text": [
      "Average Windspeed  in January for each location\n",
      "\n",
      "RPT    14.847325\n",
      "VAL    12.914560\n",
      "ROS    13.299624\n",
      "KIL     7.199498\n",
      "SHA    11.667734\n",
      "BIR     8.054839\n",
      "DUB    11.819355\n",
      "CLA     9.512047\n",
      "MUL     9.543208\n",
      "CLO    10.053566\n",
      "BEL    14.550520\n",
      "MAL    18.028763\n"
     ]
    }
   ],
   "source": [
    "# Step 11\n",
    "\n",
    "jan_avg_windspeed = data[data.index.month == 1].mean()\n",
    "print(\"Average Windspeed  in January for each location\\n\")\n",
    "print(jan_avg_windspeed.to_string())"
   ]
  },
  {
   "cell_type": "code",
   "execution_count": 40,
   "id": "e361b43d",
   "metadata": {},
   "outputs": [
    {
     "name": "stdout",
     "output_type": "stream",
     "text": [
      "                  RPT        VAL  \\\n",
      "date                               \n",
      "1961-12-31  12.299583  10.351796   \n",
      "1962-12-31  12.246923  10.110438   \n",
      "1963-12-31  12.813452  10.836986   \n",
      "1964-12-31  12.363661  10.920164   \n",
      "1965-12-31  12.451370  11.075534   \n",
      "1966-12-31  13.461973  11.557205   \n",
      "1967-12-31  12.737151  10.990986   \n",
      "1968-12-31  11.835628  10.468197   \n",
      "1969-12-31  11.166356   9.723699   \n",
      "1970-12-31  12.600329  10.726932   \n",
      "1971-12-31  11.273123   9.095178   \n",
      "1972-12-31  12.463962  10.561311   \n",
      "1973-12-31  11.828466  10.680493   \n",
      "1974-12-31  13.643096  11.811781   \n",
      "1975-12-31  12.008575  10.293836   \n",
      "1976-12-31  11.737842  10.203115   \n",
      "1977-12-31  13.099616  11.144493   \n",
      "1978-12-31  12.504356  11.044274   \n",
      "\n",
      "                  ROS       KIL  \\\n",
      "date                              \n",
      "1961-12-31  11.362369  6.958227   \n",
      "1962-12-31  11.732712  6.960440   \n",
      "1963-12-31  12.541151  7.330055   \n",
      "1964-12-31  12.104372  6.787787   \n",
      "1965-12-31  11.848767  6.858466   \n",
      "1966-12-31  12.020630  7.345726   \n",
      "1967-12-31  11.739397  7.143425   \n",
      "1968-12-31  11.409754  6.477678   \n",
      "1969-12-31  10.902000  5.767973   \n",
      "1970-12-31  11.730247  6.217178   \n",
      "1971-12-31  11.088329  5.241507   \n",
      "1972-12-31  12.058333  5.929699   \n",
      "1973-12-31  10.680493  5.547863   \n",
      "1974-12-31  12.336356  6.427041   \n",
      "1975-12-31  11.564712  5.269096   \n",
      "1976-12-31  10.761230  5.109426   \n",
      "1977-12-31  12.627836  6.073945   \n",
      "1978-12-31  11.380000  6.082356   \n",
      "\n",
      "                  SHA       BIR  \\\n",
      "date                              \n",
      "1961-12-31  10.881763  7.729726   \n",
      "1962-12-31  10.657918  7.393068   \n",
      "1963-12-31  11.724110  8.434712   \n",
      "1964-12-31  11.454481  7.570874   \n",
      "1965-12-31  11.024795  7.478110   \n",
      "1966-12-31  11.805041  7.793671   \n",
      "1967-12-31  11.630740  7.368164   \n",
      "1968-12-31  10.760765  6.067322   \n",
      "1969-12-31   9.873918  6.189973   \n",
      "1970-12-31  10.567370  7.609452   \n",
      "1971-12-31   9.440329  6.097151   \n",
      "1972-12-31   9.430410  6.358825   \n",
      "1973-12-31   9.640877  6.548740   \n",
      "1974-12-31  11.110986  6.809781   \n",
      "1975-12-31   9.190082  5.668521   \n",
      "1976-12-31   8.846339  6.311038   \n",
      "1977-12-31  10.003836  8.586438   \n",
      "1978-12-31  10.167233  7.650658   \n",
      "\n",
      "                  DUB        CLA  \\\n",
      "date                               \n",
      "1961-12-31   9.733923   8.858788   \n",
      "1962-12-31  11.020712   8.793753   \n",
      "1963-12-31  11.075699  10.336548   \n",
      "1964-12-31  10.259153   9.467350   \n",
      "1965-12-31  10.618712   8.879918   \n",
      "1966-12-31  10.579808   8.835096   \n",
      "1967-12-31  10.652027   9.325616   \n",
      "1968-12-31   8.859180   8.255519   \n",
      "1969-12-31   8.564493   7.711397   \n",
      "1970-12-31   9.609890   8.334630   \n",
      "1971-12-31   8.385890   6.757315   \n",
      "1972-12-31   9.704508   7.680792   \n",
      "1973-12-31   8.482110   7.614274   \n",
      "1974-12-31  10.084603   9.896986   \n",
      "1975-12-31   8.562603   7.843836   \n",
      "1976-12-31   9.149126   7.146202   \n",
      "1977-12-31  11.523205   8.378384   \n",
      "1978-12-31   9.489342   8.800466   \n",
      "\n",
      "                 MUL        CLO  \\\n",
      "date                              \n",
      "1961-12-31  8.647652   9.835577   \n",
      "1962-12-31  8.316822   9.676247   \n",
      "1963-12-31  8.903589  10.224438   \n",
      "1964-12-31  7.789016  10.207951   \n",
      "1965-12-31  7.907425   9.918082   \n",
      "1966-12-31  8.514438   9.768959   \n",
      "1967-12-31  8.645014   9.547425   \n",
      "1968-12-31  7.224945   7.832978   \n",
      "1969-12-31  7.924521   7.754384   \n",
      "1970-12-31  9.297616   8.289808   \n",
      "1971-12-31  7.915370   7.229753   \n",
      "1972-12-31  8.357295   7.515273   \n",
      "1973-12-31  8.245534   7.812411   \n",
      "1974-12-31  9.331753   8.736356   \n",
      "1975-12-31  8.797945   7.382822   \n",
      "1976-12-31  8.883716   7.883087   \n",
      "1977-12-31  9.098192   8.821616   \n",
      "1978-12-31  9.089753   8.301699   \n",
      "\n",
      "                  BEL        MAL  \n",
      "date                              \n",
      "1961-12-31  13.502795  13.680773  \n",
      "1962-12-31  12.930685  14.323956  \n",
      "1963-12-31  13.638877  14.999014  \n",
      "1964-12-31  13.740546  14.910301  \n",
      "1965-12-31  12.964247  15.591644  \n",
      "1966-12-31  14.265836  16.307260  \n",
      "1967-12-31  14.774548  17.135945  \n",
      "1968-12-31  12.808634  15.017486  \n",
      "1969-12-31  12.621233  15.762904  \n",
      "1970-12-31  13.183644  16.456027  \n",
      "1971-12-31  12.208932  15.025233  \n",
      "1972-12-31  12.727377  15.028716  \n",
      "1973-12-31  12.169699  15.441096  \n",
      "1974-12-31  13.252959  16.947671  \n",
      "1975-12-31  12.631671  15.307863  \n",
      "1976-12-31  12.332377  15.471448  \n",
      "1977-12-31  13.459068  16.590849  \n",
      "1978-12-31  12.967397  16.771370  \n"
     ]
    }
   ],
   "source": [
    "# Step 12 - Downsample the record to a yearly frequency for each location.\n",
    "year_data = data.resample('A').mean()\n",
    "print(year_data)\n"
   ]
  },
  {
   "cell_type": "code",
   "execution_count": 41,
   "id": "9517ff9e",
   "metadata": {},
   "outputs": [
    {
     "name": "stdout",
     "output_type": "stream",
     "text": [
      "                  RPT        VAL  \\\n",
      "date                               \n",
      "1961-01-31  14.841333  11.988333   \n",
      "1961-02-28  16.269286  14.975357   \n",
      "1961-03-31  10.890000  11.296452   \n",
      "1961-04-30  10.722667   9.427667   \n",
      "1961-05-31   9.860968   8.850000   \n",
      "...               ...        ...   \n",
      "1978-08-31   9.645161   8.259355   \n",
      "1978-09-30  10.913667  10.895000   \n",
      "1978-10-31   9.897742   8.670968   \n",
      "1978-11-30  16.151667  14.802667   \n",
      "1978-12-31  16.175484  13.748065   \n",
      "\n",
      "                  ROS       KIL  \\\n",
      "date                              \n",
      "1961-01-31  13.431613  7.736774   \n",
      "1961-02-28  14.441481  9.230741   \n",
      "1961-03-31  10.752903  7.284000   \n",
      "1961-04-30   9.998000  5.830667   \n",
      "1961-05-31  10.818065  5.905333   \n",
      "...               ...       ...   \n",
      "1978-08-31   9.032258  4.502903   \n",
      "1978-09-30  10.635000  5.725000   \n",
      "1978-10-31   9.295806  4.721290   \n",
      "1978-11-30  13.508000  7.317333   \n",
      "1978-12-31  15.635161  7.094839   \n",
      "\n",
      "                  SHA        BIR  \\\n",
      "date                               \n",
      "1961-01-31  11.072759   8.588065   \n",
      "1961-02-28  13.852143  10.937500   \n",
      "1961-03-31  10.509355   8.866774   \n",
      "1961-04-30   8.435000   6.495000   \n",
      "1961-05-31   9.490323   6.574839   \n",
      "...               ...        ...   \n",
      "1978-08-31   7.368065   5.935161   \n",
      "1978-09-30  10.372000   9.278333   \n",
      "1978-10-31   8.525161   6.774194   \n",
      "1978-11-30  11.475000   8.743000   \n",
      "1978-12-31  11.398710   9.241613   \n",
      "\n",
      "                  DUB        CLA  \\\n",
      "date                               \n",
      "1961-01-31  11.184839   9.245333   \n",
      "1961-02-28  11.890714  11.846071   \n",
      "1961-03-31   9.644194   9.829677   \n",
      "1961-04-30   6.925333   7.094667   \n",
      "1961-05-31   7.604000   8.177097   \n",
      "...               ...        ...   \n",
      "1978-08-31   5.650323   5.417742   \n",
      "1978-09-30  10.790333   9.583000   \n",
      "1978-10-31   8.115484   7.337742   \n",
      "1978-11-30  11.492333   9.657333   \n",
      "1978-12-31  12.077419  10.194839   \n",
      "\n",
      "                  MUL        CLO  \\\n",
      "date                               \n",
      "1961-01-31   9.085806  10.107419   \n",
      "1961-02-28  11.821429  12.714286   \n",
      "1961-03-31  10.294138  11.251935   \n",
      "1961-04-30   7.342333   7.237000   \n",
      "1961-05-31   8.039355   8.499355   \n",
      "...               ...        ...   \n",
      "1978-08-31   7.241290   5.536774   \n",
      "1978-09-30  10.069333   8.939000   \n",
      "1978-10-31   8.297742   8.243871   \n",
      "1978-11-30  10.701333  10.676000   \n",
      "1978-12-31  10.616774  11.028710   \n",
      "\n",
      "                  BEL        MAL  \n",
      "date                              \n",
      "1961-01-31  13.880968  14.703226  \n",
      "1961-02-28  18.583214  15.411786  \n",
      "1961-03-31  16.410968  15.720000  \n",
      "1961-04-30  11.147333  10.278333  \n",
      "1961-05-31  11.900323  12.011613  \n",
      "...               ...        ...  \n",
      "1978-08-31  10.466774  12.054194  \n",
      "1978-09-30  15.680333  19.391333  \n",
      "1978-10-31  13.776774  17.150000  \n",
      "1978-11-30  17.404667  20.723000  \n",
      "1978-12-31  13.859677  21.371613  \n",
      "\n",
      "[216 rows x 12 columns]\n"
     ]
    }
   ],
   "source": [
    "#Step 13- Downsample the record to a monthly frequency for each location.\n",
    "monthly_data = data.resample('M').mean()\n",
    "print(monthly_data)"
   ]
  },
  {
   "cell_type": "code",
   "execution_count": 42,
   "id": "6c377be0",
   "metadata": {},
   "outputs": [
    {
     "name": "stdout",
     "output_type": "stream",
     "text": [
      "                  RPT        VAL  \\\n",
      "date                               \n",
      "1961-01-01  15.040000  14.960000   \n",
      "1961-01-08  13.541429  11.486667   \n",
      "1961-01-15  12.468571   8.967143   \n",
      "1961-01-22  13.204286   9.862857   \n",
      "1961-01-29  19.880000  16.141429   \n",
      "...               ...        ...   \n",
      "1978-12-03  14.934286  11.232857   \n",
      "1978-12-10  20.740000  19.190000   \n",
      "1978-12-17  16.758571  14.692857   \n",
      "1978-12-24  11.155714   8.008571   \n",
      "1978-12-31  14.951429  11.801429   \n",
      "\n",
      "                  ROS        KIL  \\\n",
      "date                               \n",
      "1961-01-01  13.170000   9.290000   \n",
      "1961-01-08  10.487143   6.417143   \n",
      "1961-01-15  11.958571   4.630000   \n",
      "1961-01-22  12.982857   6.328571   \n",
      "1961-01-29  18.225714  12.720000   \n",
      "...               ...        ...   \n",
      "1978-12-03  13.941429   5.565714   \n",
      "1978-12-10  17.034286   9.777143   \n",
      "1978-12-17  14.987143   6.917143   \n",
      "1978-12-24  13.172857   4.004286   \n",
      "1978-12-31  16.035714   6.507143   \n",
      "\n",
      "                  SHA        BIR  \\\n",
      "date                               \n",
      "1961-01-01        NaN   9.870000   \n",
      "1961-01-08   9.474286   6.435714   \n",
      "1961-01-15   7.351429   5.072857   \n",
      "1961-01-22   8.966667   7.417143   \n",
      "1961-01-29  17.432857  14.828571   \n",
      "...               ...        ...   \n",
      "1978-12-03  10.215714   8.618571   \n",
      "1978-12-10  15.287143  12.774286   \n",
      "1978-12-17  11.397143   7.272857   \n",
      "1978-12-24   7.825714   6.290000   \n",
      "1978-12-31   9.660000   8.620000   \n",
      "\n",
      "                  DUB        CLA  \\\n",
      "date                               \n",
      "1961-01-01  13.670000  10.250000   \n",
      "1961-01-08  11.061429   6.616667   \n",
      "1961-01-15   7.535714   6.820000   \n",
      "1961-01-22   9.257143   7.875714   \n",
      "1961-01-29  15.528571  15.160000   \n",
      "...               ...        ...   \n",
      "1978-12-03   9.642857   7.685714   \n",
      "1978-12-10  14.437143  12.488571   \n",
      "1978-12-17  10.208571   7.967143   \n",
      "1978-12-24   7.798571   8.667143   \n",
      "1978-12-31  13.708571  10.477143   \n",
      "\n",
      "                  MUL        CLO  \\\n",
      "date                               \n",
      "1961-01-01  10.830000  12.580000   \n",
      "1961-01-08   8.434286   8.497143   \n",
      "1961-01-15   5.712857   7.571429   \n",
      "1961-01-22   7.145714   8.124286   \n",
      "1961-01-29  14.480000  15.640000   \n",
      "...               ...        ...   \n",
      "1978-12-03   9.011429   9.547143   \n",
      "1978-12-10  13.870000  14.082857   \n",
      "1978-12-17   9.168571   8.565714   \n",
      "1978-12-24   7.151429   8.072857   \n",
      "1978-12-31  10.868571  11.471429   \n",
      "\n",
      "                  BEL        MAL  \n",
      "date                              \n",
      "1961-01-01  18.500000  15.040000  \n",
      "1961-01-08  12.481429  13.238571  \n",
      "1961-01-15  11.125714  11.024286  \n",
      "1961-01-22   9.821429  11.434286  \n",
      "1961-01-29  20.930000  22.530000  \n",
      "...               ...        ...  \n",
      "1978-12-03  11.835714  18.728571  \n",
      "1978-12-10  18.517143  23.061429  \n",
      "1978-12-17  11.102857  15.562857  \n",
      "1978-12-24  11.845714  18.977143  \n",
      "1978-12-31  12.947143  26.844286  \n",
      "\n",
      "[940 rows x 12 columns]\n"
     ]
    }
   ],
   "source": [
    "#Step 14\n",
    "weekly_data = data.resample('W').mean()\n",
    "print(weekly_data)"
   ]
  },
  {
   "cell_type": "code",
   "execution_count": 43,
   "id": "3b629fb6",
   "metadata": {},
   "outputs": [
    {
     "name": "stdout",
     "output_type": "stream",
     "text": [
      "                  min        max  \\\n",
      "date                               \n",
      "1961-01-01   9.290000  18.500000   \n",
      "1961-01-08   6.417143  13.541429   \n",
      "1961-01-15   4.630000  12.468571   \n",
      "1961-01-22   6.328571  13.204286   \n",
      "1961-01-29  12.720000  22.530000   \n",
      "...               ...        ...   \n",
      "1978-12-03   5.565714  18.728571   \n",
      "1978-12-10   9.777143  23.061429   \n",
      "1978-12-17   6.917143  16.758571   \n",
      "1978-12-24   4.004286  18.977143   \n",
      "1978-12-31   6.507143  26.844286   \n",
      "\n",
      "                 mean       std  \n",
      "date                             \n",
      "1961-01-01  13.018182  2.808875  \n",
      "1961-01-08   9.847659  2.601705  \n",
      "1961-01-15   8.353214  2.719649  \n",
      "1961-01-22   9.368413  2.224531  \n",
      "1961-01-29  16.958095  2.915635  \n",
      "...               ...       ...  \n",
      "1978-12-03  10.913333  3.557747  \n",
      "1978-12-10  15.938333  3.843412  \n",
      "1978-12-17  11.216786  3.474393  \n",
      "1978-12-24   9.414167  3.909628  \n",
      "1978-12-31  12.824405  5.152236  \n",
      "\n",
      "[940 rows x 4 columns]\n"
     ]
    }
   ],
   "source": [
    "#Step 15\n",
    "weekly_stats = weekly_data.iloc[:52]\n",
    "weekly_stats = pd.DataFrame()\n",
    "weekly_stats['min'] = weekly_data.min(axis=1)\n",
    "weekly_stats['max'] = weekly_data.max(axis=1)\n",
    "weekly_stats['mean'] = weekly_data.mean(axis=1)\n",
    "weekly_stats['std'] = weekly_data.std(axis=1)\n",
    "print(weekly_stats)"
   ]
  },
  {
   "cell_type": "code",
   "execution_count": 44,
   "id": "7092b8a2",
   "metadata": {},
   "outputs": [],
   "source": [
    "pd.set_option('display.max_colwidth', None)\n",
    "pd.set_option('display.width', None)"
   ]
  },
  {
   "cell_type": "markdown",
   "id": "1ba1e2e5",
   "metadata": {},
   "source": [
    "## Question 5\n",
    "<br>Step 1. Import the necessary libraries\n",
    "<br>Step 2. Import the dataset from this address. <br>Step 3. Assign it to a variable called chipo. Step 4. See the first 10 entries\n",
    "<br>Step 5. What is the number of observations in the dataset? <br>Step 6. What is the number of columns in the dataset?\n",
    "<br>Step 7. Print the name of all the columns. <br>Step 8. How is the dataset indexed?\n",
    "<br>Step 9. Which was the most-ordered item?\n",
    "<br>Step 10. For the most-ordered item, how many items were ordered?\n",
    "<br>Step 11. What was the most ordered item in the choice_description column? <br>Step 12. How many items were orderd in total?\n",
    "<br>Step 13.\n",
    "<br>• Turn the item price into a float\n",
    "<br>• Check the item price type\n",
    "<br>• Create a lambda function and change the type of item price\n",
    "<br>• Check the item price type\n",
    "<br>Step 14. How much was the revenue for the period in the dataset? <br>Step 15. How many orders were made in the period?\n",
    "<br>Step 16. What is the average revenue amount per order? <br>Step 17. How many different items are sold?"
   ]
  },
  {
   "cell_type": "code",
   "execution_count": 45,
   "id": "e0562726",
   "metadata": {},
   "outputs": [],
   "source": [
    "#Step 1\n",
    "import pandas as pd"
   ]
  },
  {
   "cell_type": "code",
   "execution_count": 46,
   "id": "8a75eb95",
   "metadata": {},
   "outputs": [],
   "source": [
    "#Step 2\n",
    "url = 'https://raw.githubusercontent.com/justmarkham/DAT8/master/data/chipotle.tsv'"
   ]
  },
  {
   "cell_type": "code",
   "execution_count": 47,
   "id": "cb0b35b9",
   "metadata": {},
   "outputs": [],
   "source": [
    "#Step 3\n",
    "chipo = pd.read_csv(url, delimiter='\\t')"
   ]
  },
  {
   "cell_type": "code",
   "execution_count": 48,
   "id": "27df23d2",
   "metadata": {},
   "outputs": [
    {
     "name": "stdout",
     "output_type": "stream",
     "text": [
      "   order_id  quantity                              item_name  \\\n",
      "0         1         1           Chips and Fresh Tomato Salsa   \n",
      "1         1         1                                   Izze   \n",
      "2         1         1                       Nantucket Nectar   \n",
      "3         1         1  Chips and Tomatillo-Green Chili Salsa   \n",
      "4         2         2                           Chicken Bowl   \n",
      "5         3         1                           Chicken Bowl   \n",
      "6         3         1                          Side of Chips   \n",
      "7         4         1                          Steak Burrito   \n",
      "8         4         1                       Steak Soft Tacos   \n",
      "9         5         1                          Steak Burrito   \n",
      "\n",
      "                                                                                                   choice_description  \\\n",
      "0                                                                                                                 NaN   \n",
      "1                                                                                                        [Clementine]   \n",
      "2                                                                                                             [Apple]   \n",
      "3                                                                                                                 NaN   \n",
      "4                                          [Tomatillo-Red Chili Salsa (Hot), [Black Beans, Rice, Cheese, Sour Cream]]   \n",
      "5                                         [Fresh Tomato Salsa (Mild), [Rice, Cheese, Sour Cream, Guacamole, Lettuce]]   \n",
      "6                                                                                                                 NaN   \n",
      "7  [Tomatillo Red Chili Salsa, [Fajita Vegetables, Black Beans, Pinto Beans, Cheese, Sour Cream, Guacamole, Lettuce]]   \n",
      "8                                           [Tomatillo Green Chili Salsa, [Pinto Beans, Cheese, Sour Cream, Lettuce]]   \n",
      "9                                 [Fresh Tomato Salsa, [Rice, Black Beans, Pinto Beans, Cheese, Sour Cream, Lettuce]]   \n",
      "\n",
      "  item_price  \n",
      "0     $2.39   \n",
      "1     $3.39   \n",
      "2     $3.39   \n",
      "3     $2.39   \n",
      "4    $16.98   \n",
      "5    $10.98   \n",
      "6     $1.69   \n",
      "7    $11.75   \n",
      "8     $9.25   \n",
      "9     $9.25   \n"
     ]
    }
   ],
   "source": [
    "#Step 4\n",
    "print(chipo.head(10))"
   ]
  },
  {
   "cell_type": "code",
   "execution_count": 49,
   "id": "3bfc45aa",
   "metadata": {},
   "outputs": [
    {
     "name": "stdout",
     "output_type": "stream",
     "text": [
      "Number of observations in the dataset: 4622\n"
     ]
    }
   ],
   "source": [
    "#Step 5\n",
    "print(\"Number of observations in the dataset:\", len(chipo))"
   ]
  },
  {
   "cell_type": "code",
   "execution_count": 50,
   "id": "9262dfe7",
   "metadata": {},
   "outputs": [
    {
     "name": "stdout",
     "output_type": "stream",
     "text": [
      "Number of columns in the dataset: 5\n"
     ]
    }
   ],
   "source": [
    "#Step 6\n",
    "\n",
    "print(\"Number of columns in the dataset:\", chipo.shape[1])"
   ]
  },
  {
   "cell_type": "code",
   "execution_count": 51,
   "id": "6807f917",
   "metadata": {},
   "outputs": [
    {
     "name": "stdout",
     "output_type": "stream",
     "text": [
      "Name of Columns are: order_id, quantity, item_name, choice_description, item_price\n"
     ]
    }
   ],
   "source": [
    "#Step 7\n",
    "print(\"Name of Columns are:\",', '.join(chipo.columns))"
   ]
  },
  {
   "cell_type": "code",
   "execution_count": 52,
   "id": "1df28dd3",
   "metadata": {},
   "outputs": [
    {
     "name": "stdout",
     "output_type": "stream",
     "text": [
      "Index type: RangeIndex(start=0, stop=4622, step=1)\n"
     ]
    }
   ],
   "source": [
    "#Step 8\n",
    "print(\"Index type:\", chipo.index)"
   ]
  },
  {
   "cell_type": "code",
   "execution_count": 53,
   "id": "7a03f435",
   "metadata": {},
   "outputs": [
    {
     "name": "stdout",
     "output_type": "stream",
     "text": [
      "Most-ordered item is: Chicken Bowl\n"
     ]
    }
   ],
   "source": [
    "#Step 9\n",
    "most_ordered_item = chipo['item_name'].value_counts().idxmax()\n",
    "print(\"Most-ordered item is:\", most_ordered_item)"
   ]
  },
  {
   "cell_type": "code",
   "execution_count": 54,
   "id": "328f33a0",
   "metadata": {},
   "outputs": [
    {
     "name": "stdout",
     "output_type": "stream",
     "text": [
      "Number of items ordered for Chicken Bowl: 761\n"
     ]
    }
   ],
   "source": [
    "#Step 10\n",
    "most_ordered_item_count = chipo[chipo['item_name'] == most_ordered_item]['quantity'].sum()\n",
    "print(f\"Number of items ordered for {most_ordered_item}: {most_ordered_item_count}\")\n"
   ]
  },
  {
   "cell_type": "code",
   "execution_count": 55,
   "id": "0dd148df",
   "metadata": {},
   "outputs": [
    {
     "name": "stdout",
     "output_type": "stream",
     "text": [
      "Most-ordered item in choice description is: [Diet Coke]\n"
     ]
    }
   ],
   "source": [
    "#Step 11\n",
    "most_ordered_item_choice = chipo['choice_description'].value_counts().idxmax()\n",
    "print(\"Most-ordered item in choice description is:\", most_ordered_item_choice)"
   ]
  },
  {
   "cell_type": "code",
   "execution_count": 56,
   "id": "44ac13a9",
   "metadata": {},
   "outputs": [
    {
     "name": "stdout",
     "output_type": "stream",
     "text": [
      "Total items ordered: 4972\n"
     ]
    }
   ],
   "source": [
    "#Step 12\n",
    "print(\"Total items ordered:\", chipo['quantity'].sum())"
   ]
  },
  {
   "cell_type": "code",
   "execution_count": 57,
   "id": "670dd96d",
   "metadata": {},
   "outputs": [
    {
     "name": "stdout",
     "output_type": "stream",
     "text": [
      "Item price type after conversion: float64\n"
     ]
    }
   ],
   "source": [
    "#Step 13\n",
    "\n",
    "chipo['item_price'] = chipo['item_price'].apply(lambda x: float(x[1:]) if isinstance(x, str) else x)\n",
    "\n",
    "print(\"Item price type after conversion:\", chipo['item_price'].dtype)"
   ]
  },
  {
   "cell_type": "code",
   "execution_count": 58,
   "id": "3b9813c8",
   "metadata": {},
   "outputs": [
    {
     "name": "stdout",
     "output_type": "stream",
     "text": [
      "Total revenue: 39237.02\n"
     ]
    }
   ],
   "source": [
    "#Step 14\n",
    "revenue = (chipo['quantity'] * chipo['item_price']).sum()\n",
    "print(\"Total revenue:\", revenue)"
   ]
  },
  {
   "cell_type": "code",
   "execution_count": 59,
   "id": "67a3d7ad",
   "metadata": {},
   "outputs": [
    {
     "name": "stdout",
     "output_type": "stream",
     "text": [
      "Number of orders: 1834\n"
     ]
    }
   ],
   "source": [
    "#Step 15 \n",
    "total_orders = chipo['order_id'].nunique()\n",
    "print(\"Number of orders:\", total_orders)"
   ]
  },
  {
   "cell_type": "code",
   "execution_count": 60,
   "id": "609eb699",
   "metadata": {},
   "outputs": [
    {
     "name": "stdout",
     "output_type": "stream",
     "text": [
      "Average revenue per order: 21.39423118865867\n"
     ]
    }
   ],
   "source": [
    "#Step 16\n",
    "average_revenue_per_order = revenue / total_orders\n",
    "print(\"Average revenue per order:\", average_revenue_per_order)"
   ]
  },
  {
   "cell_type": "code",
   "execution_count": 61,
   "id": "c6f30cf6",
   "metadata": {},
   "outputs": [
    {
     "name": "stdout",
     "output_type": "stream",
     "text": [
      "Number of different items sold: 50\n"
     ]
    }
   ],
   "source": [
    "#Step 17\n",
    "num_different_items = chipo['item_name'].nunique()\n",
    "print(\"Number of different items sold:\", num_different_items)"
   ]
  },
  {
   "cell_type": "markdown",
   "id": "b0e2b778",
   "metadata": {},
   "source": [
    "## Question 6\n",
    "Create a line plot showing the number of marriages and divorces per capita in the\n",
    "U.S. between 1867 and 2014. Label both lines and show the legend. Don't forget to label your axes!"
   ]
  },
  {
   "cell_type": "code",
   "execution_count": 62,
   "id": "2ebfeb69",
   "metadata": {},
   "outputs": [],
   "source": [
    "import pandas as pd\n",
    "import matplotlib.pyplot as plt"
   ]
  },
  {
   "cell_type": "code",
   "execution_count": 63,
   "id": "9eeb6d05",
   "metadata": {},
   "outputs": [],
   "source": [
    "file_path = 'us-marriages-divorces-1867-2014.csv'\n",
    "df = pd.read_csv(file_path)"
   ]
  },
  {
   "cell_type": "code",
   "execution_count": 64,
   "id": "53060bc4",
   "metadata": {},
   "outputs": [
    {
     "data": {
      "image/png": "[encoded data removed]",
      "text/plain": [
       "<Figure size 1200x600 with 1 Axes>"
      ]
     },
     "metadata": {},
     "output_type": "display_data"
    }
   ],
   "source": [
    "df['Marriages_Per_1000'] = df['Marriages'] / df['Population'] * 1000\n",
    "df['Divorces_Per_1000'] = df['Divorces'] / df['Population'] * 1000\n",
    "\n",
    "# Plotting\n",
    "plt.figure(figsize=(12, 6))\n",
    "\n",
    "plt.plot(df['Year'], df['Marriages_Per_1000'], label='Marriages per 1000 people')\n",
    "plt.plot(df['Year'], df['Divorces_Per_1000'], label='Divorces per 1000 people')\n",
    "\n",
    "plt.title('Number of Marriages and Divorces per 1000 People in the U.S. (1867-2014)')\n",
    "plt.xlabel('Year')\n",
    "plt.ylabel('Rate per 1000 People')\n",
    "plt.legend()\n",
    "plt.grid(True)\n",
    "plt.show()"
   ]
  },
  {
   "cell_type": "markdown",
   "id": "7ea72935",
   "metadata": {},
   "source": [
    "## Question 7\n",
    "Create a vertical bar chart comparing the number of marriages and divorces per capita in the U.S. between 1900, 1950, and 2000.\n",
    "Don't forget to label your axes!"
   ]
  },
  {
   "cell_type": "code",
   "execution_count": 65,
   "id": "f9d0e3f6",
   "metadata": {},
   "outputs": [
    {
     "data": {
      "image/png": "[encoded data removed]",
      "text/plain": [
       "<Figure size 1000x600 with 1 Axes>"
      ]
     },
     "metadata": {},
     "output_type": "display_data"
    }
   ],
   "source": [
    "# Filter data for the specified years\n",
    "selected_years = [1900, 1950, 2000]\n",
    "selected_data = df[df['Year'].isin(selected_years)].copy()  \n",
    "\n",
    "# Calculate marriages and divorces per capita for the selected years using loc\n",
    "selected_data.loc[:, 'Marriages_Per_1000'] = selected_data['Marriages'] / selected_data['Population'] * 1000\n",
    "selected_data.loc[:, 'Divorces_Per_1000'] = selected_data['Divorces'] / selected_data['Population'] * 1000\n",
    "\n",
    "# Increase bar thickness\n",
    "bar_width = 10\n",
    "\n",
    "# Plotting\n",
    "plt.figure(figsize=(10, 6))\n",
    "\n",
    "bar_positions_marriages = selected_data['Year'] - bar_width / 2\n",
    "bar_positions_divorces = selected_data['Year'] + bar_width / 2\n",
    "\n",
    "plt.bar(bar_positions_marriages, selected_data['Marriages_Per_1000'], width=bar_width, label='Marriages per 1000 people')\n",
    "plt.bar(bar_positions_divorces, selected_data['Divorces_Per_1000'], width=bar_width, label='Divorces per 1000 people')\n",
    "\n",
    "plt.title('Marriages and Divorces per 1000 People in the U.S. (1900, 1950, 2000)')\n",
    "plt.xlabel('Year')\n",
    "plt.ylabel('Rate per 1000 People')\n",
    "plt.legend()\n",
    "plt.xticks(selected_data['Year'])\n",
    "plt.show()\n"
   ]
  },
  {
   "cell_type": "markdown",
   "id": "aedb6d42",
   "metadata": {},
   "source": [
    "## Question 8\n",
    "Create a horizontal bar chart that compares the deadliest actors in Hollywood. Sort the actors by their kill count and label each bar with the corresponding actor's name. Don't forget to label your axes!"
   ]
  },
  {
   "cell_type": "code",
   "execution_count": 66,
   "id": "4408f02a",
   "metadata": {},
   "outputs": [
    {
     "data": {
      "image/png": "[encoded data removed]",
      "text/plain": [
       "<Figure size 1000x800 with 1 Axes>"
      ]
     },
     "metadata": {},
     "output_type": "display_data"
    }
   ],
   "source": [
    "file_path = 'actor_kill_counts.csv'\n",
    "actor_data = pd.read_csv(file_path)\n",
    "\n",
    "# Sort the data by kill count in descending order\n",
    "sorted_actor_data = actor_data.sort_values(by='Count', ascending=False)\n",
    "\n",
    "# Plotting\n",
    "plt.figure(figsize=(10, 8))\n",
    "\n",
    "plt.barh(sorted_actor_data['Actor'], sorted_actor_data['Count'], color='grey')\n",
    "plt.xlabel('Count')\n",
    "plt.ylabel('Actor')\n",
    "plt.title('Deadliest Actors in Hollywood')\n",
    "\n",
    "# Adding labels to the bars\n",
    "for index, value in enumerate(sorted_actor_data['Count']):\n",
    "    plt.text(value, index, str(value))\n",
    "\n",
    "plt.show()"
   ]
  },
  {
   "cell_type": "markdown",
   "id": "78f8ea4c",
   "metadata": {},
   "source": [
    "## Question 9\n",
    "Create a pie chart showing the fraction of all Roman Emperors that were assassinated.\n",
    "<br>Make sure that the pie chart is an even circle, labels the categories, and shows the percentage breakdown of the categories."
   ]
  },
  {
   "cell_type": "code",
   "execution_count": 67,
   "id": "5b873fb7",
   "metadata": {},
   "outputs": [
    {
     "data": {
      "image/png": "[encoded data removed]",
      "text/plain": [
       "<Figure size 800x800 with 1 Axes>"
      ]
     },
     "metadata": {},
     "output_type": "display_data"
    }
   ],
   "source": [
    "df = pd.read_csv('roman-emperor-reigns.csv')\n",
    "\n",
    "# Count the occurrences of assassinations\n",
    "assassination_counts = df['Cause_of_Death'].value_counts()\n",
    "\n",
    "# Create a pie chart\n",
    "plt.figure(figsize=(8, 8))\n",
    "plt.pie(assassination_counts, labels=assassination_counts.index, autopct='%1.1f%%', startangle=140)\n",
    "\n",
    "# Equal aspect ratio ensures that the pie is drawn as a circle\n",
    "plt.axis('equal')\n",
    "\n",
    "# Add a title\n",
    "plt.title('Fraction of Roman Emperors Assassinated')\n",
    "\n",
    "# Show the pie chart\n",
    "plt.show()"
   ]
  },
  {
   "cell_type": "markdown",
   "id": "ecafb658",
   "metadata": {},
   "source": [
    "## Question 10\n",
    "Create a scatter plot showing the relationship between the total revenue earned by arcades and the number of Computer Science PhDs awarded in the U.S. between 2000 and 2009.\n",
    "<br>Don't forget to label your axes! Color each dot according to its year."
   ]
  },
  {
   "cell_type": "code",
   "execution_count": 68,
   "id": "a8058a21",
   "metadata": {},
   "outputs": [
    {
     "data": {
      "image/png": "[encoded data removed]",
      "text/plain": [
       "<Figure size 1000x600 with 2 Axes>"
      ]
     },
     "metadata": {},
     "output_type": "display_data"
    }
   ],
   "source": [
    "df = pd.read_csv('arcade-revenue-vs-cs-doctorates.csv')\n",
    "\n",
    "# Scatter plot\n",
    "plt.figure(figsize=(10, 6))\n",
    "scatter = plt.scatter(df['Total Arcade Revenue (billions)'], df['Computer Science Doctorates Awarded (US)'],\n",
    "                      c=df['Year'], cmap='viridis', s=100, alpha=0.8)\n",
    "\n",
    "# Add colorbar\n",
    "cbar = plt.colorbar(scatter)\n",
    "cbar.set_label('Year')\n",
    "\n",
    "# Labeling axes and title\n",
    "plt.xlabel('Total Arcade Revenue (billions)')\n",
    "plt.ylabel('Computer Science Doctorates Awarded (US)')\n",
    "plt.title('Relationship between Arcade Revenue and Computer Science Doctorates (2000-2009)')\n",
    "\n",
    "# Show the plot\n",
    "plt.show()"
   ]
  },
  {
   "cell_type": "code",
   "execution_count": null,
   "id": "8365de9d",
   "metadata": {},
   "outputs": [],
   "source": []
  }
 ],
 "metadata": {
  "kernelspec": {
   "display_name": "Python 3 (ipykernel)",
   "language": "python",
   "name": "python3"
  },
  "language_info": {
   "codemirror_mode": {
    "name": "ipython",
    "version": 3
   },
   "file_extension": ".py",
   "mimetype": "text/x-python",
   "name": "python",
   "nbconvert_exporter": "python",
   "pygments_lexer": "ipython3",
   "version": "3.11.5"
  }
 },
 "nbformat": 4,
 "nbformat_minor": 5
}
